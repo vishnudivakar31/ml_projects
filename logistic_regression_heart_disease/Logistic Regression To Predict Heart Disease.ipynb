{
 "cells": [
  {
   "cell_type": "markdown",
   "id": "22076936",
   "metadata": {},
   "source": [
    "# Logistic Regression To Predict Heart Disease"
   ]
  },
  {
   "cell_type": "markdown",
   "id": "9b60a557",
   "metadata": {},
   "source": [
    "## Libraries for ML"
   ]
  },
  {
   "cell_type": "code",
   "execution_count": 2,
   "id": "eb8071b5",
   "metadata": {},
   "outputs": [],
   "source": [
    "import numpy as np\n",
    "import pandas as pd\n",
    "import matplotlib.pyplot as plt"
   ]
  },
  {
   "cell_type": "markdown",
   "id": "2051f86b",
   "metadata": {},
   "source": [
    "## Data Loading and One Hot Encoding for Educational Level"
   ]
  },
  {
   "cell_type": "code",
   "execution_count": 11,
   "id": "63f76dcc",
   "metadata": {},
   "outputs": [],
   "source": [
    "dataset = pd.read_csv('framingham.csv')\n",
    "X = dataset.iloc[:, :-1].values\n",
    "y = dataset.iloc[:, -1].values"
   ]
  },
  {
   "cell_type": "code",
   "execution_count": 4,
   "id": "8dad194c",
   "metadata": {},
   "outputs": [
    {
     "name": "stdout",
     "output_type": "stream",
     "text": [
      "[[  1.    39.     4.   ...  26.97  80.    77.  ]\n",
      " [  0.    46.     2.   ...  28.73  95.    76.  ]\n",
      " [  1.    48.     1.   ...  25.34  75.    70.  ]\n",
      " ...\n",
      " [  0.    48.     2.   ...  22.    84.    86.  ]\n",
      " [  0.    44.     1.   ...  19.16  86.      nan]\n",
      " [  0.    52.     2.   ...  21.47  80.   107.  ]]\n"
     ]
    }
   ],
   "source": [
    "print(X)"
   ]
  },
  {
   "cell_type": "code",
   "execution_count": 5,
   "id": "304c737c",
   "metadata": {},
   "outputs": [
    {
     "name": "stdout",
     "output_type": "stream",
     "text": [
      "[0 0 0 ... 0 0 0]\n"
     ]
    }
   ],
   "source": [
    "print(y)"
   ]
  },
  {
   "cell_type": "code",
   "execution_count": 14,
   "id": "dc601fe6",
   "metadata": {},
   "outputs": [],
   "source": [
    "from sklearn.compose import ColumnTransformer\n",
    "from sklearn.preprocessing import OneHotEncoder\n",
    "column_transformer = ColumnTransformer(transformers = [('encoder', OneHotEncoder(), [2])], remainder = 'passthrough')\n",
    "X = np.array(column_transformer.fit_transform(X))"
   ]
  },
  {
   "cell_type": "code",
   "execution_count": 15,
   "id": "28cb5b1f",
   "metadata": {},
   "outputs": [
    {
     "name": "stdout",
     "output_type": "stream",
     "text": [
      "[[  0.     0.     0.   ...  26.97  80.    77.  ]\n",
      " [  0.     1.     0.   ...  28.73  95.    76.  ]\n",
      " [  1.     0.     0.   ...  25.34  75.    70.  ]\n",
      " ...\n",
      " [  0.     1.     0.   ...  22.    84.    86.  ]\n",
      " [  1.     0.     0.   ...  19.16  86.      nan]\n",
      " [  0.     1.     0.   ...  21.47  80.   107.  ]]\n"
     ]
    }
   ],
   "source": [
    "print(X)"
   ]
  },
  {
   "cell_type": "markdown",
   "id": "c3b142e0",
   "metadata": {},
   "source": [
    "## Handling Missing Data"
   ]
  },
  {
   "cell_type": "code",
   "execution_count": 16,
   "id": "71e7dff2",
   "metadata": {},
   "outputs": [],
   "source": [
    "from sklearn.impute import SimpleImputer\n",
    "imputer = SimpleImputer(missing_values = np.nan, strategy = 'mean')\n",
    "X = imputer.fit_transform(X)"
   ]
  },
  {
   "cell_type": "code",
   "execution_count": 17,
   "id": "4a4affde",
   "metadata": {},
   "outputs": [
    {
     "name": "stdout",
     "output_type": "stream",
     "text": [
      "[[  0.           0.           0.         ...  26.97        80.\n",
      "   77.        ]\n",
      " [  0.           1.           0.         ...  28.73        95.\n",
      "   76.        ]\n",
      " [  1.           0.           0.         ...  25.34        75.\n",
      "   70.        ]\n",
      " ...\n",
      " [  0.           1.           0.         ...  22.          84.\n",
      "   86.        ]\n",
      " [  1.           0.           0.         ...  19.16        86.\n",
      "   81.96675325]\n",
      " [  0.           1.           0.         ...  21.47        80.\n",
      "  107.        ]]\n"
     ]
    }
   ],
   "source": [
    "print(X)"
   ]
  },
  {
   "cell_type": "markdown",
   "id": "d4ad5a6c",
   "metadata": {},
   "source": [
    "## Split Training And Test Data"
   ]
  },
  {
   "cell_type": "code",
   "execution_count": 18,
   "id": "f0487622",
   "metadata": {},
   "outputs": [],
   "source": [
    "from sklearn.model_selection import train_test_split\n",
    "X_train, X_test, y_train, y_test = train_test_split(X, y, test_size = 0.2)"
   ]
  },
  {
   "cell_type": "code",
   "execution_count": 19,
   "id": "c9715af5",
   "metadata": {},
   "outputs": [
    {
     "name": "stdout",
     "output_type": "stream",
     "text": [
      "3390\n"
     ]
    }
   ],
   "source": [
    "print(len(X_train))"
   ]
  },
  {
   "cell_type": "code",
   "execution_count": 20,
   "id": "1cf22eee",
   "metadata": {},
   "outputs": [
    {
     "name": "stdout",
     "output_type": "stream",
     "text": [
      "848\n"
     ]
    }
   ],
   "source": [
    "print(len(X_test))"
   ]
  },
  {
   "cell_type": "code",
   "execution_count": 21,
   "id": "f3859f32",
   "metadata": {},
   "outputs": [
    {
     "name": "stdout",
     "output_type": "stream",
     "text": [
      "3390\n"
     ]
    }
   ],
   "source": [
    "print(len(y_train))"
   ]
  },
  {
   "cell_type": "code",
   "execution_count": 22,
   "id": "dd5ba1c2",
   "metadata": {},
   "outputs": [
    {
     "name": "stdout",
     "output_type": "stream",
     "text": [
      "848\n"
     ]
    }
   ],
   "source": [
    "print(len(y_test))"
   ]
  },
  {
   "cell_type": "markdown",
   "id": "6dfd768a",
   "metadata": {},
   "source": [
    "## Feature Scaling"
   ]
  },
  {
   "cell_type": "code",
   "execution_count": 26,
   "id": "4aa520b7",
   "metadata": {},
   "outputs": [],
   "source": [
    "from sklearn.preprocessing import StandardScaler\n",
    "standard_scaler = StandardScaler()\n",
    "X_train[:, 3:] = standard_scaler.fit_transform(X_train[:, 3:])\n",
    "X_test[:, 3:] = standard_scaler.fit_transform(X_test[:, 3:])"
   ]
  },
  {
   "cell_type": "code",
   "execution_count": 27,
   "id": "78825cfc",
   "metadata": {},
   "outputs": [
    {
     "name": "stdout",
     "output_type": "stream",
     "text": [
      "[[ 0.          1.          0.         ...  0.53279803 -0.48515562\n",
      "  -0.3422011 ]\n",
      " [ 0.          1.          0.         ... -0.41644442 -1.98967246\n",
      "  -0.13567854]\n",
      " [ 1.          0.          0.         ... -1.04845932 -0.8194927\n",
      "  -0.30089659]\n",
      " ...\n",
      " [ 0.          0.          0.         ... -0.00892903 -0.06723427\n",
      "  -0.38350562]\n",
      " [ 0.          0.          1.         ...  0.16432602  0.35068707\n",
      "   3.33390045]\n",
      " [ 1.          0.          0.         ...  2.13113686 -0.31798708\n",
      "   0.07084402]]\n"
     ]
    }
   ],
   "source": [
    "print(X_train)"
   ]
  },
  {
   "cell_type": "code",
   "execution_count": 28,
   "id": "7b2602e1",
   "metadata": {},
   "outputs": [
    {
     "name": "stdout",
     "output_type": "stream",
     "text": [
      "[[ 1.          0.          0.         ...  0.81252071 -0.09603072\n",
      "  -0.22894988]\n",
      " [ 1.          0.          0.         ...  0.09254046 -0.50401694\n",
      "   0.14280521]\n",
      " [ 0.          0.          1.         ...  0.21127404 -0.91200316\n",
      "  -0.04307233]\n",
      " ...\n",
      " [ 1.          0.          0.         ...  1.09040782  0.3119555\n",
      "  -0.66266415]\n",
      " [ 0.          1.          0.         ...  0.37548006 -1.31998938\n",
      "  -0.29090906]\n",
      " [ 0.          1.          0.         ...  0.2744302  -0.91200316\n",
      "  -1.28225596]]\n"
     ]
    }
   ],
   "source": [
    "print(X_test)"
   ]
  },
  {
   "cell_type": "markdown",
   "id": "df08c737",
   "metadata": {},
   "source": [
    "## Model Creation and Fitting Training Data"
   ]
  },
  {
   "cell_type": "code",
   "execution_count": 29,
   "id": "e8611348",
   "metadata": {},
   "outputs": [
    {
     "data": {
      "text/plain": [
       "LogisticRegression(random_state=0)"
      ]
     },
     "execution_count": 29,
     "metadata": {},
     "output_type": "execute_result"
    }
   ],
   "source": [
    "from sklearn.linear_model import LogisticRegression\n",
    "regressor = LogisticRegression(random_state = 0)\n",
    "regressor.fit(X_train, y_train)"
   ]
  },
  {
   "cell_type": "markdown",
   "id": "8c4304cb",
   "metadata": {},
   "source": [
    "## Predicting Test Data"
   ]
  },
  {
   "cell_type": "code",
   "execution_count": 32,
   "id": "9d5e2492",
   "metadata": {},
   "outputs": [],
   "source": [
    "y_pred = regressor.predict(X_test)"
   ]
  },
  {
   "cell_type": "markdown",
   "id": "4cab3b33",
   "metadata": {},
   "source": [
    "## Regression Metrics"
   ]
  },
  {
   "cell_type": "code",
   "execution_count": 35,
   "id": "d1e55d50",
   "metadata": {},
   "outputs": [
    {
     "data": {
      "text/plain": [
       "0.8490566037735849"
      ]
     },
     "execution_count": 35,
     "metadata": {},
     "output_type": "execute_result"
    }
   ],
   "source": [
    "from sklearn.metrics import accuracy_score\n",
    "accuracy_score(y_test, y_pred)"
   ]
  },
  {
   "cell_type": "code",
   "execution_count": null,
   "id": "db2f9cf5",
   "metadata": {},
   "outputs": [],
   "source": []
  }
 ],
 "metadata": {
  "kernelspec": {
   "display_name": "Python 3",
   "language": "python",
   "name": "python3"
  },
  "language_info": {
   "codemirror_mode": {
    "name": "ipython",
    "version": 3
   },
   "file_extension": ".py",
   "mimetype": "text/x-python",
   "name": "python",
   "nbconvert_exporter": "python",
   "pygments_lexer": "ipython3",
   "version": "3.9.6"
  }
 },
 "nbformat": 4,
 "nbformat_minor": 5
}
